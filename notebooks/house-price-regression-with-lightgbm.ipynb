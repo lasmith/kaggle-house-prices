{
 "cells": [
  {
   "cell_type": "markdown",
   "metadata": {
    "_uuid": "9799d5a6b1b727e72d9c1b107890cab57ab8ecc1"
   },
   "source": [
    "## Introduction\n",
    "The following kernel shows how to run a regression using [LightGBM](https://lightgbm.readthedocs.io/en/latest/). It also runs some feature engineering to improve the score."
   ]
  },
  {
   "cell_type": "code",
   "execution_count": null,
   "metadata": {
    "_cell_guid": "b1076dfc-b9ad-4769-8c92-a6c4dae69d19",
    "_uuid": "8f2839f25d086af736a60e9eeb907d3b93b6e0e5"
   },
   "outputs": [],
   "source": [
    "import math\n",
    "import numpy as np\n",
    "import pandas as pd\n",
    "import matplotlib.pyplot as plt\n",
    "%matplotlib inline\n",
    "import seaborn as sns\n",
    "from scipy.stats import norm\n",
    "import lightgbm as lgb\n",
    "from sklearn.model_selection import train_test_split\n",
    "from sklearn.metrics import mean_squared_log_error\n",
    "from sklearn import preprocessing\n",
    "from sklearn.preprocessing import StandardScaler, PolynomialFeatures, Imputer\n",
    "from sklearn.model_selection import cross_val_score, cross_val_predict\n",
    "import os\n",
    "print(os.listdir(\"../input\"))"
   ]
  },
  {
   "cell_type": "markdown",
   "metadata": {
    "_cell_guid": "79c7e3d0-c299-4dcb-8224-4455121ee9b0",
    "_uuid": "d629ff2d2480ee46fbb7e2d37f6b5fab8052498a",
    "collapsed": true
   },
   "source": [
    "## Data Exploration\n",
    "The following is a brief exploratory data analysis (EDA) of the data. There are other kernels on the competition page which do this more justice. Here I just focus on a summary of the data, the missing values and looking at the target. Normally we would also look at correlations, this has been done outside of this notebook and is used later in aspects of the feature engineering."
   ]
  },
  {
   "cell_type": "code",
   "execution_count": null,
   "metadata": {
    "_uuid": "3ac39eaf527dfd510911b350575dcf07d1d4dd93"
   },
   "outputs": [],
   "source": [
    "df_train = pd.read_csv(\"../input/train.csv\")\n",
    "df_test = pd.read_csv(\"../input/test.csv\")"
   ]
  },
  {
   "cell_type": "code",
   "execution_count": null,
   "metadata": {
    "_uuid": "245a227c96a3e647907618fab5b60ad6481a637b"
   },
   "outputs": [],
   "source": [
    "df_train.sample(3)"
   ]
  },
  {
   "cell_type": "code",
   "execution_count": null,
   "metadata": {
    "_uuid": "e6de15085d126b863f1b7a917da6e5d70c486aa3"
   },
   "outputs": [],
   "source": [
    "df_test.sample(3)"
   ]
  },
  {
   "cell_type": "code",
   "execution_count": null,
   "metadata": {
    "_uuid": "fe6bbb7c5e42c2c227b7b39d05c87c7e7765af3e"
   },
   "outputs": [],
   "source": [
    "print(\"Shape train: %s, test: %s\" % (df_train.shape, df_test.shape))"
   ]
  },
  {
   "cell_type": "markdown",
   "metadata": {
    "_uuid": "c29625ef13fdc3c293809f2ff4c55abe3be475d7"
   },
   "source": [
    "So we have ~1500 records with 80 features. Lets look at some basic statistics of the current numerical features."
   ]
  },
  {
   "cell_type": "code",
   "execution_count": null,
   "metadata": {
    "_uuid": "c43ddd7a9ac480e813ef2a8bad67691525a5a987"
   },
   "outputs": [],
   "source": [
    "pd.options.display.max_columns = None # Show all cols\n",
    "df_train.describe()"
   ]
  },
  {
   "cell_type": "markdown",
   "metadata": {
    "_uuid": "8ae460e074a2aed61de23957c8d29b2cb4560a4e"
   },
   "source": [
    "### Missing Data\n",
    "From the above we can see any missing values (in the numeric fields), that will later need imputing and any significant outliers will also need to be dealt with. For example \"LotFrontage\" is missing on 259 rows. The max sales price is over 7 standard deviations from the mean which would suggest outliers. Lets look at the top N features with missing values."
   ]
  },
  {
   "cell_type": "code",
   "execution_count": null,
   "metadata": {
    "_uuid": "fe7beb3725eedf30fab83781f1d77ffb84a4eab0"
   },
   "outputs": [],
   "source": [
    "df_na = (df_train.isnull().sum() / len(df_train)) * 100\n",
    "df_na = df_na.drop(df_na[df_na == 0].index).sort_values(ascending=False)[:30]\n",
    "missing_data = pd.DataFrame({'Missing Ratio' :df_na})\n",
    "missing_data.head(10)"
   ]
  },
  {
   "cell_type": "markdown",
   "metadata": {
    "_uuid": "cf6ecb4e07a18ab38af31a06b144f4e9d935fb74"
   },
   "source": [
    "### Target analysis\n",
    "Target distribution is skewed and can be seen in the plots below - this is generally not a good thing. So we will need to adjust it so its normally distributed. This can be achieved with a log transform or something more powerful like box cox. On the diagram below, the left pane shows the original (skewed) data. The right pane show the transformed data."
   ]
  },
  {
   "cell_type": "code",
   "execution_count": null,
   "metadata": {
    "_uuid": "a3640466fc8cfa71750c7294afdd52d36038ae0e"
   },
   "outputs": [],
   "source": [
    "fig, ax = plt.subplots(1,2)\n",
    "width, height = fig.get_size_inches()\n",
    "fig.set_size_inches(width*2, height)\n",
    "sns.distplot(df_train['SalePrice'], ax=ax[0], fit=norm)\n",
    "sns.distplot(np.log(df_train[('SalePrice')]+1), ax=ax[1], fit= norm)"
   ]
  },
  {
   "cell_type": "markdown",
   "metadata": {
    "_uuid": "154383db7019ff11a2fc996326710ffbf337acf8"
   },
   "source": [
    "# Data Engineering\n",
    "We have to do some work to get the data into a format that will work with LightGBM. This covers:\n",
    "* Handling categoricals\n",
    "* Handling numericals\n",
    "* Feature engineering - To generate new features\n",
    "\n",
    "This would normally be packaged into some form of utility library as a separate step in the ML pipeline. In production setups this would typically be either Python or perhaps Spark for larger data sets.\n",
    "## Basic data engineering\n",
    "First lets define some useful functions. Again this *should* be encapsulated in an external function library. For simplicity these are defined here."
   ]
  },
  {
   "cell_type": "code",
   "execution_count": null,
   "metadata": {
    "_uuid": "0b3e9595cc62c1e73b227225b3c299c07f5bb6e4"
   },
   "outputs": [],
   "source": [
    "def fill_missing(df, cols, val):\n",
    "    \"\"\" Fill with the supplied val \"\"\"\n",
    "    for col in cols:\n",
    "        df[col] = df[col].fillna(val)\n",
    "\n",
    "def fill_missing_with_mode(df, cols):\n",
    "    \"\"\" Fill with the mode \"\"\"\n",
    "    for col in cols:\n",
    "        df[col] = df[col].fillna(df[col].mode()[0])\n",
    "        \n",
    "def addlogs(res, cols):\n",
    "    \"\"\" Log transform feature list\"\"\"\n",
    "    m = res.shape[1]\n",
    "    for c in cols:\n",
    "        res = res.assign(newcol=pd.Series(np.log(1.01+res[c])).values)   \n",
    "        res.columns.values[m] = c + '_log'\n",
    "        m += 1\n",
    "    return res"
   ]
  },
  {
   "cell_type": "markdown",
   "metadata": {
    "_uuid": "e283168527f05658d79cabe8ff666045e59a2f6a"
   },
   "source": [
    "Some basic calculated cols"
   ]
  },
  {
   "cell_type": "code",
   "execution_count": null,
   "metadata": {
    "_uuid": "4793a8dad38ce3bfcd027bec79ea68ab38704915"
   },
   "outputs": [],
   "source": [
    "df_train['TotalSF'] = df_train['TotalBsmtSF'] + df_train['1stFlrSF'] + df_train['2ndFlrSF']"
   ]
  },
  {
   "cell_type": "markdown",
   "metadata": {
    "_uuid": "5ff86f111d652a5513bcbb2fc76d8695f3f3d0a0"
   },
   "source": [
    "Add Log transform columns for simple integer features."
   ]
  },
  {
   "cell_type": "code",
   "execution_count": null,
   "metadata": {
    "_uuid": "e6a0d222b61367b96e638807342162ae7775bc94"
   },
   "outputs": [],
   "source": [
    "loglist = ['LotFrontage','LotArea','MasVnrArea','BsmtFinSF1','BsmtFinSF2','BsmtUnfSF',\n",
    "                 'TotalBsmtSF','1stFlrSF','2ndFlrSF','LowQualFinSF','GrLivArea',\n",
    "                 'BsmtFullBath','BsmtHalfBath','FullBath','HalfBath','BedroomAbvGr','KitchenAbvGr',\n",
    "                 'TotRmsAbvGrd','Fireplaces','GarageCars','GarageArea','WoodDeckSF','OpenPorchSF',\n",
    "                 'EnclosedPorch','3SsnPorch','ScreenPorch','PoolArea','MiscVal','YearRemodAdd','TotalSF']\n",
    "\n",
    "df_train = addlogs(df_train, loglist)"
   ]
  },
  {
   "cell_type": "markdown",
   "metadata": {
    "_uuid": "78df3f81bfaabc0bd0d2b6bdc8b481ec113412c6"
   },
   "source": [
    "For sale price we have effectively a real valued number, so we need to use [log1p](https://docs.scipy.org/doc/numpy/reference/generated/numpy.log1p.html) to ensure the log transform is accurate. This is particularly important when the numbers are small but is just good practice for real numbers."
   ]
  },
  {
   "cell_type": "code",
   "execution_count": null,
   "metadata": {
    "_uuid": "1b10058ee0f116f7d52c7f0f5d7cd966f0c1aed9"
   },
   "outputs": [],
   "source": [
    "df_train[\"SalePrice\"] = np.log1p(df_train[\"SalePrice\"])"
   ]
  },
  {
   "cell_type": "markdown",
   "metadata": {
    "_uuid": "3500ea021145fff76e3d1ae00691a507797b29b4"
   },
   "source": [
    "Now impute the missing values with something sensible"
   ]
  },
  {
   "cell_type": "code",
   "execution_count": null,
   "metadata": {
    "_uuid": "11d99afee296f3fc2422d92f027e5ccc8d2eb920"
   },
   "outputs": [],
   "source": [
    "fill_missing(df_train, [\"PoolQC\", \"MiscFeature\", \"Alley\", \"Fence\", \"FireplaceQu\", \n",
    "                        \"GarageType\", \"GarageFinish\", \"GarageQual\", \"GarageCond\",\n",
    "                       'BsmtQual', 'BsmtCond', 'BsmtExposure', 'BsmtFinType1', 'BsmtFinType2',\n",
    "                       \"MasVnrType\", \"MSSubClass\"], \"None\")\n",
    "fill_missing(df_train, [\"GarageYrBlt\", \"GarageArea\", \"GarageCars\",\n",
    "                       'BsmtFinSF1', 'BsmtFinSF2', 'BsmtUnfSF','TotalBsmtSF', 'BsmtFullBath', 'BsmtHalfBath',\n",
    "                       \"MasVnrArea\"], 0)\n",
    "fill_missing_with_mode(df_train, [\"MSZoning\", \"KitchenQual\", \"Exterior1st\", \"Exterior2nd\", \"SaleType\"])\n",
    "fill_missing(df_train, [\"Functional\"],\"Typ\")\n",
    "# Utils is pointless as there is only one row with a value\n",
    "df_train.drop(['Utilities'], axis=1, inplace=True)\n",
    "# For lot frontage we take the median of the neighbourhood. In general this would be a good approximation as most \n",
    "# house co located are similar in size \n",
    "df_train[\"LotFrontage\"] = df_train.groupby(\"Neighborhood\")[\"LotFrontage\"].transform(\n",
    "    lambda x: x.fillna(x.median()))"
   ]
  },
  {
   "cell_type": "markdown",
   "metadata": {
    "_uuid": "ab7145643ad97f154a142bac5ea47fcc5f4018cb"
   },
   "source": [
    "Remove outliers. These can seriously mess up a model so its best to either cap them, or drop them. Here we drop them."
   ]
  },
  {
   "cell_type": "code",
   "execution_count": null,
   "metadata": {
    "_uuid": "ba294311620c3ab84587e7bceeddaab41a478c31"
   },
   "outputs": [],
   "source": [
    "df_train.drop(df_train[(df_train['OverallQual']<5) & (df_train['SalePrice']>200000)].index, inplace=True)\n",
    "df_train.drop(df_train[(df_train['GrLivArea']>4000) & (df_train['SalePrice']<300000)].index, inplace=True)\n",
    "df_train.reset_index(drop=True, inplace=True)"
   ]
  },
  {
   "cell_type": "markdown",
   "metadata": {
    "_uuid": "2f1e1186487845144de55c420e8d77c3c13b80db"
   },
   "source": [
    "And finally there are some fields that are categorical and we should not treat them as numbers. So we have to convert non-numeric -> string where approriate "
   ]
  },
  {
   "cell_type": "code",
   "execution_count": null,
   "metadata": {
    "_uuid": "343872792f61aa1bc457e8217f6f449ef0896e12"
   },
   "outputs": [],
   "source": [
    "df_train['MSSubClass'] = df_train['MSSubClass'].apply(str)\n",
    "df_train['YrSold'] = df_train['YrSold'].astype(str)\n",
    "df_train['MoSold'] = df_train['MoSold'].astype(str)"
   ]
  },
  {
   "cell_type": "markdown",
   "metadata": {
    "_uuid": "e8c053e13278f1e58d1fee3505b1322ed565fd78"
   },
   "source": [
    "## Handle categoricals\n",
    "First some util functions to dummy encode the categoricals. LightGBM can handle these natively but for now we do it manually as this could then easily be applied a pre process step for other algorithms."
   ]
  },
  {
   "cell_type": "code",
   "execution_count": null,
   "metadata": {
    "_uuid": "ee001ffa0d532c3b9535ca3a9eeb761c83973077"
   },
   "outputs": [],
   "source": [
    "def fix_missing_cols(in_train, in_test):\n",
    "    missing_cols = set(in_train.columns) - set(in_test.columns)\n",
    "    # Add a missing column in test set with default value equal to 0\n",
    "    for c in missing_cols:\n",
    "        in_test[c] = 0\n",
    "    # Ensure the order of column in the test set is in the same order than in train set\n",
    "    in_test = in_test[in_train.columns]\n",
    "    return in_test\n",
    "\n",
    "def dummy_encode(in_df_train, in_df_test):\n",
    "    df_train = in_df_train\n",
    "    df_test = in_df_test\n",
    "    categorical_feats = [\n",
    "        f for f in df_train.columns if df_train[f].dtype == 'object'\n",
    "    ]\n",
    "    print(categorical_feats)\n",
    "    for f_ in categorical_feats:\n",
    "        prefix = f_\n",
    "        df_train = pd.concat([df_train, pd.get_dummies(df_train[f_], prefix=prefix)], axis=1).drop(f_, axis=1)\n",
    "        df_test = pd.concat([df_test, pd.get_dummies(df_test[f_], prefix=prefix)], axis=1).drop(f_, axis=1)\n",
    "        df_test = fix_missing_cols(df_train, df_test)\n",
    "    return df_train, df_test\n"
   ]
  },
  {
   "cell_type": "code",
   "execution_count": null,
   "metadata": {
    "_uuid": "ebcb5a3ed099bdb989ced308d5bfcd8b4939dcdf"
   },
   "outputs": [],
   "source": [
    "df_train, df_test = dummy_encode(df_train, df_test)\n",
    "print(\"Shape train: %s, test: %s\" % (df_train.shape, df_test.shape))"
   ]
  },
  {
   "cell_type": "markdown",
   "metadata": {
    "_uuid": "bafeb75f45394d0a2aec6716a65c17447fb5dabf"
   },
   "source": [
    "## Additional Feature Engineering\n",
    "Additional daa engineering often involves some complex computations. For small data sets like this its not a problem. For larger data sets you need to verify the performance vs the change in performance / accuracy after adding the features. This should be in terms of both accuracy and time to train. If there is a real benefit, then these can be applied but could be perhaps be done as a pre procesing step (eg via a Spark Job). This depends on the feature / data but the point is to ensure you test with and without the new feature.\n",
    "\n",
    "### Interaction Terms\n",
    "First generate some interaction terms based on the highest correlated features (these were pre-computed). \n",
    "\n",
    "See https://en.wikipedia.org/wiki/Interaction_(statistics)\n",
    "\n",
    "Analysis of the features selected here showed they were more correlated (either +ve or -ve) with the sales price. This can be seen by looking using the [dataframe.corr](https://pandas.pydata.org/pandas-docs/stable/generated/pandas.DataFrame.corr.html) method, then selecting the top N features. All the ones here had a positive correlation over 0.6."
   ]
  },
  {
   "cell_type": "code",
   "execution_count": null,
   "metadata": {
    "_uuid": "4a2b8c9fd9a05e32cd9b873aa2bfe921fad99c64"
   },
   "outputs": [],
   "source": [
    "def load_poly_features(df_train, df_test, cols):\n",
    "    \"\"\"\n",
    "    USeful function to generate poly terms\n",
    "    :param df_train: The training data frame\n",
    "    :param df_test: The test data frame\n",
    "    :return: df_poly_features, df_poly_features_test - The training polynomial features + the test\n",
    "    \"\"\"\n",
    "    print('Loading polynomial features..')\n",
    "    # Make a new dataframe for polynomial features\n",
    "    poly_features = df_train[cols]\n",
    "    poly_features_test = df_test[cols]\n",
    "\n",
    "    # imputer for handling missing values\n",
    "    imputer = Imputer(strategy='median')\n",
    "\n",
    "    # Need to impute missing values\n",
    "    poly_features = imputer.fit_transform(poly_features)\n",
    "    poly_features_test = imputer.transform(poly_features_test)\n",
    "\n",
    "    # Create the polynomial object with specified degree\n",
    "    poly_transformer = PolynomialFeatures(degree=3)\n",
    "    # Train the polynomial features\n",
    "    poly_transformer.fit(poly_features)\n",
    "\n",
    "    # Transform the features\n",
    "    poly_features = poly_transformer.transform(poly_features)\n",
    "    poly_features_test = poly_transformer.transform(poly_features_test)\n",
    "    print('Polynomial Features shape: %s' % str(poly_features.shape))\n",
    "\n",
    "    df_poly_features = pd.DataFrame(poly_features,\n",
    "                                    columns=poly_transformer.get_feature_names(cols))\n",
    "    df_poly_features_test = pd.DataFrame(poly_features_test,\n",
    "                                         columns=poly_transformer.get_feature_names(cols))\n",
    "    df_poly_features['Id'] = df_train['Id']\n",
    "    df_poly_features_test['Id'] = df_test['Id']\n",
    "    print('Loaded polynomial features')\n",
    "    return df_poly_features, df_poly_features_test"
   ]
  },
  {
   "cell_type": "code",
   "execution_count": null,
   "metadata": {
    "_uuid": "94f1f932e6a7a05ea358eb279b1e1781227a92c6"
   },
   "outputs": [],
   "source": [
    "correlated_cols = ['OverallQual', 'GrLivArea', 'GarageCars', 'GarageArea', 'TotalBsmtSF', '1stFlrSF']\n",
    "df_train_poly, df_test_poly =  load_poly_features(df_train, df_test, cols=correlated_cols)\n",
    "print(\"Shape train: %s, test: %s\" % (df_train_poly.shape, df_test_poly.shape))"
   ]
  },
  {
   "cell_type": "code",
   "execution_count": null,
   "metadata": {
    "_uuid": "44428aeaa983f04e1ca423fe07210cfea93e9d3c"
   },
   "outputs": [],
   "source": [
    "df_train = df_train.merge(right=df_train_poly.reset_index(), how='left', on='Id')\n",
    "df_test = df_test.merge(right=df_test_poly.reset_index(), how='left', on='Id')"
   ]
  },
  {
   "cell_type": "code",
   "execution_count": null,
   "metadata": {
    "_uuid": "1a5cfdf81883861e128272db5a96682247ee32e3"
   },
   "outputs": [],
   "source": [
    "print(\"Shape train: %s, test: %s\" % (df_train.shape, df_test.shape))"
   ]
  },
  {
   "cell_type": "markdown",
   "metadata": {
    "_uuid": "6e41a567f2a186ad7a23bdbe54a9388c53ec0776"
   },
   "source": [
    "So in the end our features have gone from the original 80 to 446. The number of records has slightly reduced as we dropped the outliers.[](http://)"
   ]
  },
  {
   "cell_type": "markdown",
   "metadata": {
    "_uuid": "c9c880e34f1acf1df28072f78e9c84627304c43e"
   },
   "source": [
    "# Light GBM\n",
    "Now lets run our regression!\n",
    "\n",
    "First lets split up the data into our training data (X_train), our testing data frame (X_test) and our target variables that we want to predict for both training and testing (y_train and y_test respectively)."
   ]
  },
  {
   "cell_type": "code",
   "execution_count": null,
   "metadata": {
    "_uuid": "1e5aa0db98379c50d9f67bf6c8938cc2a126ab84"
   },
   "outputs": [],
   "source": [
    "y = df_train[\"SalePrice\"]\n",
    "y.sample(3)"
   ]
  },
  {
   "cell_type": "code",
   "execution_count": null,
   "metadata": {
    "_uuid": "0c5ee51293c79900615eb68d55059b1654c68981"
   },
   "outputs": [],
   "source": [
    "df_train.drop([\"SalePrice\"], axis=1, inplace=True)\n",
    "# The fix missing cols above will have added the target column to the test data frame, so this is a workaround to remove it\n",
    "df_test.drop([\"SalePrice\"], axis=1, inplace=True) "
   ]
  },
  {
   "cell_type": "code",
   "execution_count": null,
   "metadata": {
    "_uuid": "8d6ab8b4c5a36b902b04b49ccc4b0d7e1ea24b53"
   },
   "outputs": [],
   "source": [
    "print(\"Shape train: %s, test: %s\" % (df_train.shape, df_test.shape))"
   ]
  },
  {
   "cell_type": "markdown",
   "metadata": {
    "_uuid": "2b4988d425d5b0ebf2e7ade349b16f24b05914b2"
   },
   "source": [
    "Split the data set into training and testing data with a fixed random value."
   ]
  },
  {
   "cell_type": "code",
   "execution_count": null,
   "metadata": {
    "_uuid": "3e7cb1bb609f4270769076c22ec631a167ac66f0"
   },
   "outputs": [],
   "source": [
    "X_train, X_test, y_train, y_test = train_test_split( df_train, y, test_size=0.2, random_state=42)"
   ]
  },
  {
   "cell_type": "markdown",
   "metadata": {
    "_uuid": "3c10c801e2efdf78eb3bcbe28eeabd838ceb7095"
   },
   "source": [
    "The hyper parameter settings are below. The settings below are best on a few iterations of training with some guided attempts driven by the documentation on the LightGBM website. They are far from the optimum..\n",
    "\n",
    "In a real application we would adjust these to see the impact on loss - over numerous iterations. This would either be manual or more likely use a tool like [Optunity](https://optunity.readthedocs.io/en/latest/) or Hyperopt, to run automated hyper parameter tuning."
   ]
  },
  {
   "cell_type": "code",
   "execution_count": null,
   "metadata": {
    "_uuid": "4e61dd9377fcbea03fcb78f86a208d51d576c554"
   },
   "outputs": [],
   "source": [
    "hyper_params = {\n",
    "    'task': 'train',\n",
    "    'boosting_type': 'gbdt',\n",
    "    'objective': 'regression',\n",
    "    'metric': ['l2', 'auc'],\n",
    "    'learning_rate': 0.005,\n",
    "    'feature_fraction': 0.9,\n",
    "    'bagging_fraction': 0.7,\n",
    "    'bagging_freq': 10,\n",
    "    'verbose': 0,\n",
    "    \"max_depth\": 8,\n",
    "    \"num_leaves\": 128,  \n",
    "    \"max_bin\": 512,\n",
    "    \"num_iterations\": 100000,\n",
    "    \"n_estimators\": 1000\n",
    "}"
   ]
  },
  {
   "cell_type": "code",
   "execution_count": null,
   "metadata": {
    "_uuid": "147172da1ddde9ab949bbbafd3f6e56ff75dfeeb"
   },
   "outputs": [],
   "source": [
    "gbm = lgb.LGBMRegressor(**hyper_params)"
   ]
  },
  {
   "cell_type": "code",
   "execution_count": null,
   "metadata": {
    "_uuid": "0a8a4cde01d0d1b7674d5fe2a36166a7cf685ff8"
   },
   "outputs": [],
   "source": [
    "gbm.fit(X_train, y_train,\n",
    "        eval_set=[(X_test, y_test)],\n",
    "        eval_metric='l1',\n",
    "        early_stopping_rounds=1000)"
   ]
  },
  {
   "cell_type": "code",
   "execution_count": null,
   "metadata": {
    "_uuid": "def64a5887d5c3dd090e72a8675dcd0134983251"
   },
   "outputs": [],
   "source": [
    "y_pred = gbm.predict(X_train, num_iteration=gbm.best_iteration_)"
   ]
  },
  {
   "cell_type": "code",
   "execution_count": null,
   "metadata": {
    "_uuid": "c0cd1cf92c94391be8718b68195d53dc7e44d6f7"
   },
   "outputs": [],
   "source": [
    "# Basic RMSE\n",
    "print('The rmse of prediction is:', round(mean_squared_log_error(y_pred, y_train) ** 0.5, 5))"
   ]
  },
  {
   "cell_type": "markdown",
   "metadata": {
    "_uuid": "3b096fa5995a76aafb4efedad6c6c9a3142ba7fc"
   },
   "source": [
    "## Results\n",
    "First lets create the prediction CSV required for model submission. This could be submitted via the Kaggle command line but for simplicity, was uploaded via the web UI."
   ]
  },
  {
   "cell_type": "code",
   "execution_count": null,
   "metadata": {
    "_uuid": "5e820a69537df7d5def7f05a1f1db0aeb98fec27"
   },
   "outputs": [],
   "source": [
    "test_pred = np.expm1(gbm.predict(df_test, num_iteration=gbm.best_iteration_))"
   ]
  },
  {
   "cell_type": "code",
   "execution_count": null,
   "metadata": {
    "_uuid": "64990688312e6142c1d3a585957d993e7b279197"
   },
   "outputs": [],
   "source": [
    "df_test[\"SalePrice\"] = test_pred\n",
    "df_test.to_csv(\"results.csv\", columns=[\"Id\", \"SalePrice\"], index=False)"
   ]
  },
  {
   "cell_type": "markdown",
   "metadata": {
    "_uuid": "307111af91c6a3e79ee17206cf1763c0387037c2"
   },
   "source": [
    "The model developed above is a first draft to highlight the code required to implement LightGBM on a regression problem. Its current performance can be seen on the [leaderboard](https://www.kaggle.com/c/house-prices-advanced-regression-techniques/leaderboard). As of writing this kernel the score was 0.13302, which gets to around the top 40% of the leaderboard (position 1917).\n",
    "\n",
    "\n",
    "## Conclusion\n",
    "LightGBM provides a robust implementation of gradient boosting for decision trees. The training times are comparably short and out of the box and with minimal tuning you can achieve excellent model accuracy. There is an good write up about LightGBM on [Analytics Vidhya](https://www.analyticsvidhya.com/blog/2017/06/which-algorithm-takes-the-crown-light-gbm-vs-xgboost/).\n",
    "\n",
    "To take this model to the next level of performance, other areas to try would be:\n",
    "* Different transformations to normalise the skewed data (eg Box Cox transform)\n",
    "* Stacking or ensembling of multiple models together. Other possible models could be the [SKlearn XGBOOST](https://github.com/dmlc/xgboost) or something completely different like an ANN.\n",
    "* Hyperparameter tuning should be applied. Currently only a few parameters have been tried. The parameter space is large for LightGBM with numerous possibilities. Something like Optunity would be able to automate finding a much better set, albeit taking some time to run.\n",
    "\n",
    "With a few tweaks and some additional time on feature enrichment, then significant advances in accuracy could be achieved."
   ]
  }
 ],
 "metadata": {
  "kernelspec": {
   "display_name": "Python (digi-finger)",
   "language": "python",
   "name": "myenv"
  },
  "language_info": {
   "codemirror_mode": {
    "name": "ipython",
    "version": 3
   },
   "file_extension": ".py",
   "mimetype": "text/x-python",
   "name": "python",
   "nbconvert_exporter": "python",
   "pygments_lexer": "ipython3",
   "version": "3.6.8"
  }
 },
 "nbformat": 4,
 "nbformat_minor": 1
}
